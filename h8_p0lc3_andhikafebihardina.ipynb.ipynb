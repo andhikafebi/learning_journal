{
 "cells": [
  {
   "cell_type": "markdown",
   "metadata": {},
   "source": [
    "# Live Code 3 Phase 0\n",
    "\n",
    "Nama: Andhika Febi Hardina\n",
    "\n",
    "Batch: 9"
   ]
  },
  {
   "cell_type": "code",
   "execution_count": null,
   "metadata": {},
   "outputs": [],
   "source": [
    "import pandas as pd\n",
    "from scipy import stats\n",
    "import numpy as np\n",
    "import matplotlib.pyplot as plt\n",
    "import seaborn as sns"
   ]
  },
  {
   "cell_type": "markdown",
   "metadata": {},
   "source": [
    "# Problem\n",
    "\n",
    "## Central Tendency"
   ]
  },
  {
   "cell_type": "code",
   "execution_count": null,
   "metadata": {},
   "outputs": [],
   "source": [
    "data_ecommerce =  pd.read_csv('https://raw.githubusercontent.com/fahmimnalfrzki/Dataset/main/purchase_data.txt?token=AEZDEHRU5YLQEXGDDLCL6CLA2KZTI')\n",
    "pd.set_option('display.max.row',None)\n",
    "print(data_ecommerce) "
   ]
  },
  {
   "cell_type": "markdown",
   "metadata": {},
   "source": [
    "#### Menentukan mean, median, modus dilihat dari kolom purchased. Nanti dilihat dari total rata-rata nilai purchased per user dengan total user bisa di analisis nilai yang muncul apakah cenderung banyak user yang membeli atau tidak. "
   ]
  },
  {
   "cell_type": "code",
   "execution_count": null,
   "metadata": {},
   "outputs": [],
   "source": [
    "mean1= data_ecommerce['purchased'].mean\n",
    "print('mean purchased=', mean1)"
   ]
  },
  {
   "cell_type": "code",
   "execution_count": null,
   "metadata": {},
   "outputs": [],
   "source": [
    "median1 = data_ecommerce['purchased'].median\n",
    "print('median purchased=', median1)"
   ]
  },
  {
   "cell_type": "markdown",
   "metadata": {},
   "source": [
    "**2a. Berdasarkan hasil perhitungan central tendency, data cenderung berpusat ke purchased atau non purchased? apa kesimpulanmu?**\n",
    "\n",
    "Saya tidak dapat merunning perhitungan central tendency di python. Saya dari awal kesulitan untuk menentukan dan menuliskan fungsi, meskipun saya mengerti dan tahu cara logika materi maupun soal ini ke arah mana. \n",
    "\n",
    "Namun, jika ssya melihat secara keseluruhan raw data bahwa banyak user yang cenderung tidak membeli. "
   ]
  },
  {
   "cell_type": "markdown",
   "metadata": {},
   "source": [
    "## A/B Testing\n",
    "\n",
    "**2b. Definisikan H0 dan H1 dari hipotesis testingnya!**\n",
    "\n",
    "H0:\n",
    "\n",
    "H1:\n",
    "\n",
    "**2c. Jenis hipotesis apa yang akan kamu gunakan?**\n",
    "\n"
   ]
  },
  {
   "cell_type": "markdown",
   "metadata": {},
   "source": [
    "**2d. Apa kesimpulanmu terhadap hasil A/B testing tsb?**"
   ]
  }
 ],
 "metadata": {
  "interpreter": {
   "hash": "4ebe352137b5a0fa7551365239dc0e5bef59554a7f6cf3dde9c2d9a47099ac79"
  },
  "kernelspec": {
   "display_name": "Python 3.9.7 ('base')",
   "language": "python",
   "name": "python3"
  },
  "language_info": {
   "name": "python",
   "version": "3.9.7"
  },
  "orig_nbformat": 4
 },
 "nbformat": 4,
 "nbformat_minor": 2
}
