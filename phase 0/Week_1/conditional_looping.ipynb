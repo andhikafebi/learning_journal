{
  "nbformat": 4,
  "nbformat_minor": 0,
  "metadata": {
    "colab": {
      "name": "Untitled0.ipynb",
      "provenance": []
    },
    "kernelspec": {
      "name": "python3",
      "display_name": "Python 3"
    },
    "language_info": {
      "name": "python"
    }
  },
  "cells": [
    {
      "cell_type": "code",
      "execution_count": 1,
      "metadata": {
        "colab": {
          "base_uri": "https://localhost:8080/"
        },
        "id": "jKhWP1sdF7KR",
        "outputId": "85154c12-6f72-42d4-e817-15793e4a0209"
      },
      "outputs": [
        {
          "output_type": "execute_result",
          "data": {
            "text/plain": [
              "2"
            ]
          },
          "metadata": {},
          "execution_count": 1
        }
      ],
      "source": [
        "1+1"
      ]
    },
    {
      "cell_type": "code",
      "source": [
        "#Kondisi\n",
        "\n",
        "angka = 12\n",
        "if angka > 10:\n",
        "    print(f\"{angka}lebih besari dari 10\")\n",
        "    \n",
        "elif angka == 10:\n",
        "    print(f\"{angka} sama dengan 10\")\n",
        "else:\n",
        "    print(f\"{angka}lebih kecil dari 10\")\n",
        "    "
      ],
      "metadata": {
        "colab": {
          "base_uri": "https://localhost:8080/"
        },
        "id": "mWbJP_SsGG5F",
        "outputId": "770db73f-f14c-41b3-c692-338cfa5f92b7"
      },
      "execution_count": 15,
      "outputs": [
        {
          "output_type": "stream",
          "name": "stdout",
          "text": [
            "12lebih besari dari 10\n"
          ]
        }
      ]
    },
    {
      "cell_type": "code",
      "source": [
        "#Cek ganjil genap\n",
        "angka = 4\n",
        "if angka % 2 == 0:\n",
        "    print(f\"{angka} adalah angka genap\")\n",
        "else:\n",
        "    print(f\"{angka} adalah angka ganjil\")"
      ],
      "metadata": {
        "colab": {
          "base_uri": "https://localhost:8080/"
        },
        "id": "pRE2jrAbNXjF",
        "outputId": "9b9fbd4c-01cf-4669-fbce-2e8c4f24f229"
      },
      "execution_count": 17,
      "outputs": [
        {
          "output_type": "stream",
          "name": "stdout",
          "text": [
            "4 adalah angka genap\n"
          ]
        }
      ]
    },
    {
      "cell_type": "code",
      "source": [
        "menu = [\"nasi goreng\",\n",
        "        \"mie ayam\"\n",
        "        \"soto ayam\"\n",
        "        \"ayam penyet\"]"
      ],
      "metadata": {
        "id": "eROxB89UT235"
      },
      "execution_count": 22,
      "outputs": []
    },
    {
      "cell_type": "code",
      "source": [
        "makanan = \"Lontong Sayur\"\n",
        "if makanan in menu:\n",
        "    print(f\"abangnya jual{makanan}\")\n",
        "else:\n",
        "    print(f\"abangnya ga jual{makanan}\")"
      ],
      "metadata": {
        "colab": {
          "base_uri": "https://localhost:8080/"
        },
        "id": "Qmvw9wDoUqcZ",
        "outputId": "e1c3859f-56b1-4b60-8522-c88bf3a04749"
      },
      "execution_count": 23,
      "outputs": [
        {
          "output_type": "stream",
          "name": "stdout",
          "text": [
            "abangnya ga jualLontong Sayur\n"
          ]
        }
      ]
    },
    {
      "cell_type": "code",
      "source": [
        "tukang_sayur = [\"bayam\",\"kangkung\",\"cabai\"]\n",
        "\n",
        "if len(tukang_sayur) > 2:\n",
        "    if'bayam' in tukang_sayur:\n",
        "      print(\"beli bayam\")\n",
        "    else:\n",
        "      print(\"mampir doang\")\n",
        "else:\n",
        "    print(\"Pindah toko lain\")"
      ],
      "metadata": {
        "colab": {
          "base_uri": "https://localhost:8080/"
        },
        "id": "OZFmoiI9U6VA",
        "outputId": "a7d86e52-1d45-47dd-9aca-7896110c2227"
      },
      "execution_count": 35,
      "outputs": [
        {
          "output_type": "stream",
          "name": "stdout",
          "text": [
            "beli bayam\n"
          ]
        }
      ]
    },
    {
      "cell_type": "code",
      "source": [
        "tukang_buah = [\"mangga\", \"rambutan\", \"jeruk\"]\n",
        "if'mangga' in tukang_buah or 'semangka' in tukang_buah:\n",
        "    print(\"cus mampir\")\n",
        "else:\n",
        "    print(\"ga mampir\")"
      ],
      "metadata": {
        "colab": {
          "base_uri": "https://localhost:8080/"
        },
        "id": "FkSADUCMYk8j",
        "outputId": "6f286812-c829-4896-d1da-cf1e6139b1b2"
      },
      "execution_count": 46,
      "outputs": [
        {
          "output_type": "stream",
          "name": "stdout",
          "text": [
            "cus mampir\n"
          ]
        }
      ]
    },
    {
      "cell_type": "code",
      "source": [
        "pesanan = []\n",
        "pesan = ''\n",
        "while pesan != 'cukup':\n",
        "    pesan = input(\"Masukkan pesanan anda\")\n",
        "    if pesan != 'cukup':\n",
        "        pesanan.append(pesan)\n",
        "\n",
        "      "
      ],
      "metadata": {
        "id": "L-T85hQpj8mX"
      },
      "execution_count": null,
      "outputs": []
    },
    {
      "cell_type": "code",
      "source": [
        "nilai = input(\"masukkan angka :\")\n",
        "nilai = float(nilai)\n",
        "\n",
        "nilai = 80\n",
        "#A : [80-100]\n",
        "#B : [65-80]\n",
        "#c : [40-65]\n",
        "#D : [20-40]\n",
        "#E : [0=20]\n",
        "\n",
        "if nilai >= 0 and nilai <=100:\n",
        "    if nilai >= 80:\n",
        "        print(\"nilai A\")\n",
        "    elif nilai >= 65:\n",
        "        print(\"nilai B\")\n",
        "    elif nilai >= 40:\n",
        "        print(\"nilai C\")\n",
        "    elif nilai >= 20:\n",
        "        print(\"nilai D\")\n",
        "    else:\n",
        "        print('nilai E')\n",
        "else:\n",
        "    print(\"nilai tidak valid\")\n",
        "\n"
      ],
      "metadata": {
        "colab": {
          "base_uri": "https://localhost:8080/"
        },
        "id": "q2Qu4webZXlS",
        "outputId": "f3d98d5a-fc02-40cd-b150-7e8920bf2bb8"
      },
      "execution_count": 75,
      "outputs": [
        {
          "output_type": "stream",
          "name": "stdout",
          "text": [
            "masukkan angka :80\n",
            "nilai A\n"
          ]
        }
      ]
    },
    {
      "cell_type": "code",
      "source": [
        "i=0\n",
        "while i < 6:\n",
        "    print(f\"i ke : {i}\")\n",
        "    print(\"hi, saya febi\")\n",
        "    i = i+1\n",
        "    "
      ],
      "metadata": {
        "colab": {
          "base_uri": "https://localhost:8080/"
        },
        "id": "aNa4r87Xyn2P",
        "outputId": "3c8bbe2e-40b2-4b97-a2aa-96e99f42c929"
      },
      "execution_count": 76,
      "outputs": [
        {
          "output_type": "stream",
          "name": "stdout",
          "text": [
            "i ke : 0\n",
            "hi, saya febi\n",
            "i ke : 1\n",
            "hi, saya febi\n",
            "i ke : 2\n",
            "hi, saya febi\n",
            "i ke : 3\n",
            "hi, saya febi\n",
            "i ke : 4\n",
            "hi, saya febi\n",
            "i ke : 5\n",
            "hi, saya febi\n"
          ]
        }
      ]
    },
    {
      "cell_type": "code",
      "source": [
        "tukang_buah = ['pepaya', 'mangga', 'pisang','jambu']\n",
        "for buah in tukang_buah:\n",
        "    print(f\"Abang ini jual {buah}\")"
      ],
      "metadata": {
        "colab": {
          "base_uri": "https://localhost:8080/"
        },
        "id": "6PDYzAZLqV8u",
        "outputId": "e60a043b-1b49-4777-eca0-bfe8c7606a9f"
      },
      "execution_count": 61,
      "outputs": [
        {
          "output_type": "stream",
          "name": "stdout",
          "text": [
            "Abang ini jual pepaya\n",
            "Abang ini jual mangga\n",
            "Abang ini jual pisang\n",
            "Abang ini jual jambu\n"
          ]
        }
      ]
    },
    {
      "cell_type": "code",
      "source": [
        "i = 1\n",
        "while i <=10:\n",
        "      print(f\"7x{i}\")\n",
        "      i=i+1"
      ],
      "metadata": {
        "colab": {
          "base_uri": "https://localhost:8080/"
        },
        "id": "xalxtaMs1fTm",
        "outputId": "5a026b01-6bed-4965-e3af-86d3a0a969a8"
      },
      "execution_count": 77,
      "outputs": [
        {
          "output_type": "stream",
          "name": "stdout",
          "text": [
            "7x1\n",
            "7x2\n",
            "7x3\n",
            "7x4\n",
            "7x5\n",
            "7x6\n",
            "7x7\n",
            "7x8\n",
            "7x9\n",
            "7x10\n"
          ]
        }
      ]
    },
    {
      "cell_type": "code",
      "source": [
        "i=1\n",
        "j=1\n",
        "\n",
        "while j<=12:\n",
        "    while i <= 10:\n",
        "        print(f\"{j} x {i} = {j*i}\")\n",
        "        i= i+1\n",
        "    j = j+1\n",
        "    i = 1\n",
        "    print(\"*\"*50)"
      ],
      "metadata": {
        "colab": {
          "base_uri": "https://localhost:8080/"
        },
        "id": "2-8S9OMU1yn8",
        "outputId": "d8434759-ba44-4ba8-f501-71cef279d00c"
      },
      "execution_count": 79,
      "outputs": [
        {
          "output_type": "stream",
          "name": "stdout",
          "text": [
            "1 x 1 = 1\n",
            "1 x 2 = 2\n",
            "1 x 3 = 3\n",
            "1 x 4 = 4\n",
            "1 x 5 = 5\n",
            "1 x 6 = 6\n",
            "1 x 7 = 7\n",
            "1 x 8 = 8\n",
            "1 x 9 = 9\n",
            "1 x 10 = 10\n",
            "**************************************************\n",
            "2 x 1 = 2\n",
            "2 x 2 = 4\n",
            "2 x 3 = 6\n",
            "2 x 4 = 8\n",
            "2 x 5 = 10\n",
            "2 x 6 = 12\n",
            "2 x 7 = 14\n",
            "2 x 8 = 16\n",
            "2 x 9 = 18\n",
            "2 x 10 = 20\n",
            "**************************************************\n",
            "3 x 1 = 3\n",
            "3 x 2 = 6\n",
            "3 x 3 = 9\n",
            "3 x 4 = 12\n",
            "3 x 5 = 15\n",
            "3 x 6 = 18\n",
            "3 x 7 = 21\n",
            "3 x 8 = 24\n",
            "3 x 9 = 27\n",
            "3 x 10 = 30\n",
            "**************************************************\n",
            "4 x 1 = 4\n",
            "4 x 2 = 8\n",
            "4 x 3 = 12\n",
            "4 x 4 = 16\n",
            "4 x 5 = 20\n",
            "4 x 6 = 24\n",
            "4 x 7 = 28\n",
            "4 x 8 = 32\n",
            "4 x 9 = 36\n",
            "4 x 10 = 40\n",
            "**************************************************\n",
            "5 x 1 = 5\n",
            "5 x 2 = 10\n",
            "5 x 3 = 15\n",
            "5 x 4 = 20\n",
            "5 x 5 = 25\n",
            "5 x 6 = 30\n",
            "5 x 7 = 35\n",
            "5 x 8 = 40\n",
            "5 x 9 = 45\n",
            "5 x 10 = 50\n",
            "**************************************************\n",
            "6 x 1 = 6\n",
            "6 x 2 = 12\n",
            "6 x 3 = 18\n",
            "6 x 4 = 24\n",
            "6 x 5 = 30\n",
            "6 x 6 = 36\n",
            "6 x 7 = 42\n",
            "6 x 8 = 48\n",
            "6 x 9 = 54\n",
            "6 x 10 = 60\n",
            "**************************************************\n",
            "7 x 1 = 7\n",
            "7 x 2 = 14\n",
            "7 x 3 = 21\n",
            "7 x 4 = 28\n",
            "7 x 5 = 35\n",
            "7 x 6 = 42\n",
            "7 x 7 = 49\n",
            "7 x 8 = 56\n",
            "7 x 9 = 63\n",
            "7 x 10 = 70\n",
            "**************************************************\n",
            "8 x 1 = 8\n",
            "8 x 2 = 16\n",
            "8 x 3 = 24\n",
            "8 x 4 = 32\n",
            "8 x 5 = 40\n",
            "8 x 6 = 48\n",
            "8 x 7 = 56\n",
            "8 x 8 = 64\n",
            "8 x 9 = 72\n",
            "8 x 10 = 80\n",
            "**************************************************\n",
            "9 x 1 = 9\n",
            "9 x 2 = 18\n",
            "9 x 3 = 27\n",
            "9 x 4 = 36\n",
            "9 x 5 = 45\n",
            "9 x 6 = 54\n",
            "9 x 7 = 63\n",
            "9 x 8 = 72\n",
            "9 x 9 = 81\n",
            "9 x 10 = 90\n",
            "**************************************************\n",
            "10 x 1 = 10\n",
            "10 x 2 = 20\n",
            "10 x 3 = 30\n",
            "10 x 4 = 40\n",
            "10 x 5 = 50\n",
            "10 x 6 = 60\n",
            "10 x 7 = 70\n",
            "10 x 8 = 80\n",
            "10 x 9 = 90\n",
            "10 x 10 = 100\n",
            "**************************************************\n",
            "11 x 1 = 11\n",
            "11 x 2 = 22\n",
            "11 x 3 = 33\n",
            "11 x 4 = 44\n",
            "11 x 5 = 55\n",
            "11 x 6 = 66\n",
            "11 x 7 = 77\n",
            "11 x 8 = 88\n",
            "11 x 9 = 99\n",
            "11 x 10 = 110\n",
            "**************************************************\n",
            "12 x 1 = 12\n",
            "12 x 2 = 24\n",
            "12 x 3 = 36\n",
            "12 x 4 = 48\n",
            "12 x 5 = 60\n",
            "12 x 6 = 72\n",
            "12 x 7 = 84\n",
            "12 x 8 = 96\n",
            "12 x 9 = 108\n",
            "12 x 10 = 120\n",
            "**************************************************\n"
          ]
        }
      ]
    },
    {
      "cell_type": "code",
      "source": [
        "for j in range(1,11):\n",
        "    for i in range(1,11):\n",
        "        print(f\"{j}x{i}={j*i}\")\n",
        "    print(\"*\"*50)"
      ],
      "metadata": {
        "colab": {
          "base_uri": "https://localhost:8080/"
        },
        "id": "tbAIbC0isLVt",
        "outputId": "66f6a109-a180-4ff8-da30-828e344ae87a"
      },
      "execution_count": 74,
      "outputs": [
        {
          "output_type": "stream",
          "name": "stdout",
          "text": [
            "1x1=1\n",
            "1x2=2\n",
            "1x3=3\n",
            "1x4=4\n",
            "1x5=5\n",
            "1x6=6\n",
            "1x7=7\n",
            "1x8=8\n",
            "1x9=9\n",
            "1x10=10\n",
            "**************************************************\n",
            "2x1=2\n",
            "2x2=4\n",
            "2x3=6\n",
            "2x4=8\n",
            "2x5=10\n",
            "2x6=12\n",
            "2x7=14\n",
            "2x8=16\n",
            "2x9=18\n",
            "2x10=20\n",
            "**************************************************\n",
            "3x1=3\n",
            "3x2=6\n",
            "3x3=9\n",
            "3x4=12\n",
            "3x5=15\n",
            "3x6=18\n",
            "3x7=21\n",
            "3x8=24\n",
            "3x9=27\n",
            "3x10=30\n",
            "**************************************************\n",
            "4x1=4\n",
            "4x2=8\n",
            "4x3=12\n",
            "4x4=16\n",
            "4x5=20\n",
            "4x6=24\n",
            "4x7=28\n",
            "4x8=32\n",
            "4x9=36\n",
            "4x10=40\n",
            "**************************************************\n",
            "5x1=5\n",
            "5x2=10\n",
            "5x3=15\n",
            "5x4=20\n",
            "5x5=25\n",
            "5x6=30\n",
            "5x7=35\n",
            "5x8=40\n",
            "5x9=45\n",
            "5x10=50\n",
            "**************************************************\n",
            "6x1=6\n",
            "6x2=12\n",
            "6x3=18\n",
            "6x4=24\n",
            "6x5=30\n",
            "6x6=36\n",
            "6x7=42\n",
            "6x8=48\n",
            "6x9=54\n",
            "6x10=60\n",
            "**************************************************\n",
            "7x1=7\n",
            "7x2=14\n",
            "7x3=21\n",
            "7x4=28\n",
            "7x5=35\n",
            "7x6=42\n",
            "7x7=49\n",
            "7x8=56\n",
            "7x9=63\n",
            "7x10=70\n",
            "**************************************************\n",
            "8x1=8\n",
            "8x2=16\n",
            "8x3=24\n",
            "8x4=32\n",
            "8x5=40\n",
            "8x6=48\n",
            "8x7=56\n",
            "8x8=64\n",
            "8x9=72\n",
            "8x10=80\n",
            "**************************************************\n",
            "9x1=9\n",
            "9x2=18\n",
            "9x3=27\n",
            "9x4=36\n",
            "9x5=45\n",
            "9x6=54\n",
            "9x7=63\n",
            "9x8=72\n",
            "9x9=81\n",
            "9x10=90\n",
            "**************************************************\n",
            "10x1=10\n",
            "10x2=20\n",
            "10x3=30\n",
            "10x4=40\n",
            "10x5=50\n",
            "10x6=60\n",
            "10x7=70\n",
            "10x8=80\n",
            "10x9=90\n",
            "10x10=100\n",
            "**************************************************\n"
          ]
        }
      ]
    }
  ]
}